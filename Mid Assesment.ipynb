{
 "cells": [
  {
   "cell_type": "code",
   "execution_count": 1,
   "id": "c6740bae-f11f-41fe-a0f0-0701207f587e",
   "metadata": {},
   "outputs": [],
   "source": [
    "import pandas as pd\n",
    "rental = pd.read_csv(r\"Desktop\\raw_rental.csv\")"
   ]
  },
  {
   "cell_type": "code",
   "execution_count": 3,
   "id": "2a3036bf-806c-4b01-9890-f53033866ac4",
   "metadata": {},
   "outputs": [
    {
     "data": {
      "text/html": [
       "<div>\n",
       "<style scoped>\n",
       "    .dataframe tbody tr th:only-of-type {\n",
       "        vertical-align: middle;\n",
       "    }\n",
       "\n",
       "    .dataframe tbody tr th {\n",
       "        vertical-align: top;\n",
       "    }\n",
       "\n",
       "    .dataframe thead th {\n",
       "        text-align: right;\n",
       "    }\n",
       "</style>\n",
       "<table border=\"1\" class=\"dataframe\">\n",
       "  <thead>\n",
       "    <tr style=\"text-align: right;\">\n",
       "      <th></th>\n",
       "      <th>first_name</th>\n",
       "      <th>last_name</th>\n",
       "      <th>email</th>\n",
       "      <th>rental_date</th>\n",
       "      <th>store_id</th>\n",
       "      <th>address_id</th>\n",
       "      <th>film_title</th>\n",
       "    </tr>\n",
       "  </thead>\n",
       "  <tbody>\n",
       "    <tr>\n",
       "      <th>0</th>\n",
       "      <td>JOEL</td>\n",
       "      <td>FRANCISCO</td>\n",
       "      <td>JOEL.FRANCISCO@sakilacustomer.org</td>\n",
       "      <td>2005-07-08 19:03:15</td>\n",
       "      <td>2</td>\n",
       "      <td>436</td>\n",
       "      <td>ACADEMY DINOSAUR</td>\n",
       "    </tr>\n",
       "    <tr>\n",
       "      <th>1</th>\n",
       "      <td>GABRIEL</td>\n",
       "      <td>HARDER</td>\n",
       "      <td>GABRIEL.HARDER@sakilacustomer.org</td>\n",
       "      <td>2005-08-02 20:13:10</td>\n",
       "      <td>1</td>\n",
       "      <td>524</td>\n",
       "      <td>ACADEMY DINOSAUR</td>\n",
       "    </tr>\n",
       "    <tr>\n",
       "      <th>2</th>\n",
       "      <td>DIANNE</td>\n",
       "      <td>SHELTON</td>\n",
       "      <td>DIANNE.SHELTON@sakilacustomer.org</td>\n",
       "      <td>2005-08-21 21:27:43</td>\n",
       "      <td>2</td>\n",
       "      <td>284</td>\n",
       "      <td>ACADEMY DINOSAUR</td>\n",
       "    </tr>\n",
       "    <tr>\n",
       "      <th>3</th>\n",
       "      <td>NORMAN</td>\n",
       "      <td>CURRIER</td>\n",
       "      <td>NORMAN.CURRIER@sakilacustomer.org</td>\n",
       "      <td>2005-05-30 20:21:07</td>\n",
       "      <td>1</td>\n",
       "      <td>416</td>\n",
       "      <td>ACADEMY DINOSAUR</td>\n",
       "    </tr>\n",
       "    <tr>\n",
       "      <th>4</th>\n",
       "      <td>BEATRICE</td>\n",
       "      <td>ARNOLD</td>\n",
       "      <td>BEATRICE.ARNOLD@sakilacustomer.org</td>\n",
       "      <td>2005-06-17 20:24:00</td>\n",
       "      <td>1</td>\n",
       "      <td>174</td>\n",
       "      <td>ACADEMY DINOSAUR</td>\n",
       "    </tr>\n",
       "  </tbody>\n",
       "</table>\n",
       "</div>"
      ],
      "text/plain": [
       "  first_name  last_name                               email  \\\n",
       "0       JOEL  FRANCISCO   JOEL.FRANCISCO@sakilacustomer.org   \n",
       "1    GABRIEL     HARDER   GABRIEL.HARDER@sakilacustomer.org   \n",
       "2     DIANNE    SHELTON   DIANNE.SHELTON@sakilacustomer.org   \n",
       "3     NORMAN    CURRIER   NORMAN.CURRIER@sakilacustomer.org   \n",
       "4   BEATRICE     ARNOLD  BEATRICE.ARNOLD@sakilacustomer.org   \n",
       "\n",
       "           rental_date  store_id  address_id        film_title  \n",
       "0  2005-07-08 19:03:15         2         436  ACADEMY DINOSAUR  \n",
       "1  2005-08-02 20:13:10         1         524  ACADEMY DINOSAUR  \n",
       "2  2005-08-21 21:27:43         2         284  ACADEMY DINOSAUR  \n",
       "3  2005-05-30 20:21:07         1         416  ACADEMY DINOSAUR  \n",
       "4  2005-06-17 20:24:00         1         174  ACADEMY DINOSAUR  "
      ]
     },
     "execution_count": 3,
     "metadata": {},
     "output_type": "execute_result"
    }
   ],
   "source": [
    "rental.head()"
   ]
  },
  {
   "cell_type": "code",
   "execution_count": 4,
   "id": "73a626e3-ab93-42df-8b4d-7793a163dba6",
   "metadata": {},
   "outputs": [
    {
     "name": "stdout",
     "output_type": "stream",
     "text": [
      "<class 'pandas.core.frame.DataFrame'>\n",
      "RangeIndex: 1000 entries, 0 to 999\n",
      "Data columns (total 7 columns):\n",
      " #   Column       Non-Null Count  Dtype \n",
      "---  ------       --------------  ----- \n",
      " 0   first_name   1000 non-null   object\n",
      " 1   last_name    1000 non-null   object\n",
      " 2   email        1000 non-null   object\n",
      " 3   rental_date  1000 non-null   object\n",
      " 4   store_id     1000 non-null   int64 \n",
      " 5   address_id   1000 non-null   int64 \n",
      " 6   film_title   1000 non-null   object\n",
      "dtypes: int64(2), object(5)\n",
      "memory usage: 54.8+ KB\n"
     ]
    }
   ],
   "source": [
    "rental.info()"
   ]
  },
  {
   "cell_type": "code",
   "execution_count": 6,
   "id": "71734b3b-2dea-4f36-8f9a-68e02ac726f0",
   "metadata": {},
   "outputs": [],
   "source": [
    "rental[\"email\"] =rental[\"email\"].str.lower() "
   ]
  },
  {
   "cell_type": "code",
   "execution_count": 7,
   "id": "57d29009-0aa4-4398-a630-69adf008b0b2",
   "metadata": {},
   "outputs": [
    {
     "data": {
      "text/html": [
       "<div>\n",
       "<style scoped>\n",
       "    .dataframe tbody tr th:only-of-type {\n",
       "        vertical-align: middle;\n",
       "    }\n",
       "\n",
       "    .dataframe tbody tr th {\n",
       "        vertical-align: top;\n",
       "    }\n",
       "\n",
       "    .dataframe thead th {\n",
       "        text-align: right;\n",
       "    }\n",
       "</style>\n",
       "<table border=\"1\" class=\"dataframe\">\n",
       "  <thead>\n",
       "    <tr style=\"text-align: right;\">\n",
       "      <th></th>\n",
       "      <th>first_name</th>\n",
       "      <th>last_name</th>\n",
       "      <th>email</th>\n",
       "      <th>rental_date</th>\n",
       "      <th>store_id</th>\n",
       "      <th>address_id</th>\n",
       "      <th>film_title</th>\n",
       "    </tr>\n",
       "  </thead>\n",
       "  <tbody>\n",
       "    <tr>\n",
       "      <th>0</th>\n",
       "      <td>JOEL</td>\n",
       "      <td>FRANCISCO</td>\n",
       "      <td>joel.francisco@sakilacustomer.org</td>\n",
       "      <td>2005-07-08 19:03:15</td>\n",
       "      <td>2</td>\n",
       "      <td>436</td>\n",
       "      <td>ACADEMY DINOSAUR</td>\n",
       "    </tr>\n",
       "    <tr>\n",
       "      <th>1</th>\n",
       "      <td>GABRIEL</td>\n",
       "      <td>HARDER</td>\n",
       "      <td>gabriel.harder@sakilacustomer.org</td>\n",
       "      <td>2005-08-02 20:13:10</td>\n",
       "      <td>1</td>\n",
       "      <td>524</td>\n",
       "      <td>ACADEMY DINOSAUR</td>\n",
       "    </tr>\n",
       "    <tr>\n",
       "      <th>2</th>\n",
       "      <td>DIANNE</td>\n",
       "      <td>SHELTON</td>\n",
       "      <td>dianne.shelton@sakilacustomer.org</td>\n",
       "      <td>2005-08-21 21:27:43</td>\n",
       "      <td>2</td>\n",
       "      <td>284</td>\n",
       "      <td>ACADEMY DINOSAUR</td>\n",
       "    </tr>\n",
       "    <tr>\n",
       "      <th>3</th>\n",
       "      <td>NORMAN</td>\n",
       "      <td>CURRIER</td>\n",
       "      <td>norman.currier@sakilacustomer.org</td>\n",
       "      <td>2005-05-30 20:21:07</td>\n",
       "      <td>1</td>\n",
       "      <td>416</td>\n",
       "      <td>ACADEMY DINOSAUR</td>\n",
       "    </tr>\n",
       "    <tr>\n",
       "      <th>4</th>\n",
       "      <td>BEATRICE</td>\n",
       "      <td>ARNOLD</td>\n",
       "      <td>beatrice.arnold@sakilacustomer.org</td>\n",
       "      <td>2005-06-17 20:24:00</td>\n",
       "      <td>1</td>\n",
       "      <td>174</td>\n",
       "      <td>ACADEMY DINOSAUR</td>\n",
       "    </tr>\n",
       "  </tbody>\n",
       "</table>\n",
       "</div>"
      ],
      "text/plain": [
       "  first_name  last_name                               email  \\\n",
       "0       JOEL  FRANCISCO   joel.francisco@sakilacustomer.org   \n",
       "1    GABRIEL     HARDER   gabriel.harder@sakilacustomer.org   \n",
       "2     DIANNE    SHELTON   dianne.shelton@sakilacustomer.org   \n",
       "3     NORMAN    CURRIER   norman.currier@sakilacustomer.org   \n",
       "4   BEATRICE     ARNOLD  beatrice.arnold@sakilacustomer.org   \n",
       "\n",
       "           rental_date  store_id  address_id        film_title  \n",
       "0  2005-07-08 19:03:15         2         436  ACADEMY DINOSAUR  \n",
       "1  2005-08-02 20:13:10         1         524  ACADEMY DINOSAUR  \n",
       "2  2005-08-21 21:27:43         2         284  ACADEMY DINOSAUR  \n",
       "3  2005-05-30 20:21:07         1         416  ACADEMY DINOSAUR  \n",
       "4  2005-06-17 20:24:00         1         174  ACADEMY DINOSAUR  "
      ]
     },
     "execution_count": 7,
     "metadata": {},
     "output_type": "execute_result"
    }
   ],
   "source": [
    "rental.head()"
   ]
  },
  {
   "cell_type": "code",
   "execution_count": 8,
   "id": "05acb5c1-747e-41c9-aa9d-3bf952d7130b",
   "metadata": {},
   "outputs": [
    {
     "name": "stdout",
     "output_type": "stream",
     "text": [
      "first_name     0\n",
      "last_name      0\n",
      "email          0\n",
      "rental_date    0\n",
      "store_id       0\n",
      "address_id     0\n",
      "film_title     0\n",
      "dtype: int64\n"
     ]
    }
   ],
   "source": [
    "print(rental.isnull().sum())"
   ]
  },
  {
   "cell_type": "code",
   "execution_count": 10,
   "id": "1544d822-eaf9-4469-bd30-431716b6da6b",
   "metadata": {},
   "outputs": [],
   "source": [
    "rental.drop('rental_date',  axis=1, inplace=True)"
   ]
  },
  {
   "cell_type": "code",
   "execution_count": 12,
   "id": "393352fa-6e34-496c-8004-53f5ba3945dd",
   "metadata": {},
   "outputs": [
    {
     "data": {
      "text/html": [
       "<div>\n",
       "<style scoped>\n",
       "    .dataframe tbody tr th:only-of-type {\n",
       "        vertical-align: middle;\n",
       "    }\n",
       "\n",
       "    .dataframe tbody tr th {\n",
       "        vertical-align: top;\n",
       "    }\n",
       "\n",
       "    .dataframe thead th {\n",
       "        text-align: right;\n",
       "    }\n",
       "</style>\n",
       "<table border=\"1\" class=\"dataframe\">\n",
       "  <thead>\n",
       "    <tr style=\"text-align: right;\">\n",
       "      <th></th>\n",
       "      <th>first_name</th>\n",
       "      <th>last_name</th>\n",
       "      <th>email</th>\n",
       "      <th>store_id</th>\n",
       "      <th>address_id</th>\n",
       "      <th>film_title</th>\n",
       "    </tr>\n",
       "  </thead>\n",
       "  <tbody>\n",
       "    <tr>\n",
       "      <th>0</th>\n",
       "      <td>JOEL</td>\n",
       "      <td>FRANCISCO</td>\n",
       "      <td>joel.francisco@sakilacustomer.org</td>\n",
       "      <td>2</td>\n",
       "      <td>436</td>\n",
       "      <td>ACADEMY DINOSAUR</td>\n",
       "    </tr>\n",
       "    <tr>\n",
       "      <th>1</th>\n",
       "      <td>GABRIEL</td>\n",
       "      <td>HARDER</td>\n",
       "      <td>gabriel.harder@sakilacustomer.org</td>\n",
       "      <td>1</td>\n",
       "      <td>524</td>\n",
       "      <td>ACADEMY DINOSAUR</td>\n",
       "    </tr>\n",
       "    <tr>\n",
       "      <th>2</th>\n",
       "      <td>DIANNE</td>\n",
       "      <td>SHELTON</td>\n",
       "      <td>dianne.shelton@sakilacustomer.org</td>\n",
       "      <td>2</td>\n",
       "      <td>284</td>\n",
       "      <td>ACADEMY DINOSAUR</td>\n",
       "    </tr>\n",
       "    <tr>\n",
       "      <th>3</th>\n",
       "      <td>NORMAN</td>\n",
       "      <td>CURRIER</td>\n",
       "      <td>norman.currier@sakilacustomer.org</td>\n",
       "      <td>1</td>\n",
       "      <td>416</td>\n",
       "      <td>ACADEMY DINOSAUR</td>\n",
       "    </tr>\n",
       "    <tr>\n",
       "      <th>4</th>\n",
       "      <td>BEATRICE</td>\n",
       "      <td>ARNOLD</td>\n",
       "      <td>beatrice.arnold@sakilacustomer.org</td>\n",
       "      <td>1</td>\n",
       "      <td>174</td>\n",
       "      <td>ACADEMY DINOSAUR</td>\n",
       "    </tr>\n",
       "  </tbody>\n",
       "</table>\n",
       "</div>"
      ],
      "text/plain": [
       "  first_name  last_name                               email  store_id  \\\n",
       "0       JOEL  FRANCISCO   joel.francisco@sakilacustomer.org         2   \n",
       "1    GABRIEL     HARDER   gabriel.harder@sakilacustomer.org         1   \n",
       "2     DIANNE    SHELTON   dianne.shelton@sakilacustomer.org         2   \n",
       "3     NORMAN    CURRIER   norman.currier@sakilacustomer.org         1   \n",
       "4   BEATRICE     ARNOLD  beatrice.arnold@sakilacustomer.org         1   \n",
       "\n",
       "   address_id        film_title  \n",
       "0         436  ACADEMY DINOSAUR  \n",
       "1         524  ACADEMY DINOSAUR  \n",
       "2         284  ACADEMY DINOSAUR  \n",
       "3         416  ACADEMY DINOSAUR  \n",
       "4         174  ACADEMY DINOSAUR  "
      ]
     },
     "execution_count": 12,
     "metadata": {},
     "output_type": "execute_result"
    }
   ],
   "source": [
    "rental.head()"
   ]
  },
  {
   "cell_type": "code",
   "execution_count": 13,
   "id": "a4177002-040c-4b57-a00b-f8f1b4a03317",
   "metadata": {},
   "outputs": [],
   "source": [
    "rental.drop('store_id',  axis=1, inplace=True)"
   ]
  },
  {
   "cell_type": "code",
   "execution_count": 14,
   "id": "b3a7cfb5-04a5-4270-bfc3-7884acb0d8c0",
   "metadata": {},
   "outputs": [
    {
     "data": {
      "text/html": [
       "<div>\n",
       "<style scoped>\n",
       "    .dataframe tbody tr th:only-of-type {\n",
       "        vertical-align: middle;\n",
       "    }\n",
       "\n",
       "    .dataframe tbody tr th {\n",
       "        vertical-align: top;\n",
       "    }\n",
       "\n",
       "    .dataframe thead th {\n",
       "        text-align: right;\n",
       "    }\n",
       "</style>\n",
       "<table border=\"1\" class=\"dataframe\">\n",
       "  <thead>\n",
       "    <tr style=\"text-align: right;\">\n",
       "      <th></th>\n",
       "      <th>first_name</th>\n",
       "      <th>last_name</th>\n",
       "      <th>email</th>\n",
       "      <th>address_id</th>\n",
       "      <th>film_title</th>\n",
       "    </tr>\n",
       "  </thead>\n",
       "  <tbody>\n",
       "    <tr>\n",
       "      <th>0</th>\n",
       "      <td>JOEL</td>\n",
       "      <td>FRANCISCO</td>\n",
       "      <td>joel.francisco@sakilacustomer.org</td>\n",
       "      <td>436</td>\n",
       "      <td>ACADEMY DINOSAUR</td>\n",
       "    </tr>\n",
       "    <tr>\n",
       "      <th>1</th>\n",
       "      <td>GABRIEL</td>\n",
       "      <td>HARDER</td>\n",
       "      <td>gabriel.harder@sakilacustomer.org</td>\n",
       "      <td>524</td>\n",
       "      <td>ACADEMY DINOSAUR</td>\n",
       "    </tr>\n",
       "    <tr>\n",
       "      <th>2</th>\n",
       "      <td>DIANNE</td>\n",
       "      <td>SHELTON</td>\n",
       "      <td>dianne.shelton@sakilacustomer.org</td>\n",
       "      <td>284</td>\n",
       "      <td>ACADEMY DINOSAUR</td>\n",
       "    </tr>\n",
       "    <tr>\n",
       "      <th>3</th>\n",
       "      <td>NORMAN</td>\n",
       "      <td>CURRIER</td>\n",
       "      <td>norman.currier@sakilacustomer.org</td>\n",
       "      <td>416</td>\n",
       "      <td>ACADEMY DINOSAUR</td>\n",
       "    </tr>\n",
       "    <tr>\n",
       "      <th>4</th>\n",
       "      <td>BEATRICE</td>\n",
       "      <td>ARNOLD</td>\n",
       "      <td>beatrice.arnold@sakilacustomer.org</td>\n",
       "      <td>174</td>\n",
       "      <td>ACADEMY DINOSAUR</td>\n",
       "    </tr>\n",
       "  </tbody>\n",
       "</table>\n",
       "</div>"
      ],
      "text/plain": [
       "  first_name  last_name                               email  address_id  \\\n",
       "0       JOEL  FRANCISCO   joel.francisco@sakilacustomer.org         436   \n",
       "1    GABRIEL     HARDER   gabriel.harder@sakilacustomer.org         524   \n",
       "2     DIANNE    SHELTON   dianne.shelton@sakilacustomer.org         284   \n",
       "3     NORMAN    CURRIER   norman.currier@sakilacustomer.org         416   \n",
       "4   BEATRICE     ARNOLD  beatrice.arnold@sakilacustomer.org         174   \n",
       "\n",
       "         film_title  \n",
       "0  ACADEMY DINOSAUR  \n",
       "1  ACADEMY DINOSAUR  \n",
       "2  ACADEMY DINOSAUR  \n",
       "3  ACADEMY DINOSAUR  \n",
       "4  ACADEMY DINOSAUR  "
      ]
     },
     "execution_count": 14,
     "metadata": {},
     "output_type": "execute_result"
    }
   ],
   "source": [
    "rental.head()"
   ]
  },
  {
   "cell_type": "code",
   "execution_count": 15,
   "id": "45b53264-acac-4d62-a8c2-40852bb905b7",
   "metadata": {},
   "outputs": [],
   "source": [
    "rental.drop('address_id',  axis=1, inplace=True)"
   ]
  },
  {
   "cell_type": "code",
   "execution_count": 16,
   "id": "22070045-2d3b-4e38-a2d4-b850c50950a6",
   "metadata": {},
   "outputs": [
    {
     "data": {
      "text/html": [
       "<div>\n",
       "<style scoped>\n",
       "    .dataframe tbody tr th:only-of-type {\n",
       "        vertical-align: middle;\n",
       "    }\n",
       "\n",
       "    .dataframe tbody tr th {\n",
       "        vertical-align: top;\n",
       "    }\n",
       "\n",
       "    .dataframe thead th {\n",
       "        text-align: right;\n",
       "    }\n",
       "</style>\n",
       "<table border=\"1\" class=\"dataframe\">\n",
       "  <thead>\n",
       "    <tr style=\"text-align: right;\">\n",
       "      <th></th>\n",
       "      <th>first_name</th>\n",
       "      <th>last_name</th>\n",
       "      <th>email</th>\n",
       "      <th>film_title</th>\n",
       "    </tr>\n",
       "  </thead>\n",
       "  <tbody>\n",
       "    <tr>\n",
       "      <th>0</th>\n",
       "      <td>JOEL</td>\n",
       "      <td>FRANCISCO</td>\n",
       "      <td>joel.francisco@sakilacustomer.org</td>\n",
       "      <td>ACADEMY DINOSAUR</td>\n",
       "    </tr>\n",
       "    <tr>\n",
       "      <th>1</th>\n",
       "      <td>GABRIEL</td>\n",
       "      <td>HARDER</td>\n",
       "      <td>gabriel.harder@sakilacustomer.org</td>\n",
       "      <td>ACADEMY DINOSAUR</td>\n",
       "    </tr>\n",
       "    <tr>\n",
       "      <th>2</th>\n",
       "      <td>DIANNE</td>\n",
       "      <td>SHELTON</td>\n",
       "      <td>dianne.shelton@sakilacustomer.org</td>\n",
       "      <td>ACADEMY DINOSAUR</td>\n",
       "    </tr>\n",
       "    <tr>\n",
       "      <th>3</th>\n",
       "      <td>NORMAN</td>\n",
       "      <td>CURRIER</td>\n",
       "      <td>norman.currier@sakilacustomer.org</td>\n",
       "      <td>ACADEMY DINOSAUR</td>\n",
       "    </tr>\n",
       "    <tr>\n",
       "      <th>4</th>\n",
       "      <td>BEATRICE</td>\n",
       "      <td>ARNOLD</td>\n",
       "      <td>beatrice.arnold@sakilacustomer.org</td>\n",
       "      <td>ACADEMY DINOSAUR</td>\n",
       "    </tr>\n",
       "  </tbody>\n",
       "</table>\n",
       "</div>"
      ],
      "text/plain": [
       "  first_name  last_name                               email        film_title\n",
       "0       JOEL  FRANCISCO   joel.francisco@sakilacustomer.org  ACADEMY DINOSAUR\n",
       "1    GABRIEL     HARDER   gabriel.harder@sakilacustomer.org  ACADEMY DINOSAUR\n",
       "2     DIANNE    SHELTON   dianne.shelton@sakilacustomer.org  ACADEMY DINOSAUR\n",
       "3     NORMAN    CURRIER   norman.currier@sakilacustomer.org  ACADEMY DINOSAUR\n",
       "4   BEATRICE     ARNOLD  beatrice.arnold@sakilacustomer.org  ACADEMY DINOSAUR"
      ]
     },
     "execution_count": 16,
     "metadata": {},
     "output_type": "execute_result"
    }
   ],
   "source": [
    "rental.head()"
   ]
  },
  {
   "cell_type": "code",
   "execution_count": 18,
   "id": "0493c7b3-660b-45b5-8603-def1a4f06813",
   "metadata": {},
   "outputs": [
    {
     "data": {
      "text/plain": [
       "9"
      ]
     },
     "execution_count": 18,
     "metadata": {},
     "output_type": "execute_result"
    }
   ],
   "source": [
    "rental.duplicated().sum()"
   ]
  },
  {
   "cell_type": "code",
   "execution_count": 19,
   "id": "9c639c1e-e702-461c-b70e-a0ea78a7d603",
   "metadata": {},
   "outputs": [
    {
     "data": {
      "text/plain": [
       "(1000, 4)"
      ]
     },
     "execution_count": 19,
     "metadata": {},
     "output_type": "execute_result"
    }
   ],
   "source": [
    "rental.shape"
   ]
  },
  {
   "cell_type": "code",
   "execution_count": 20,
   "id": "b8c7ffd5-8b8e-4ff7-8226-7dacec5ec17d",
   "metadata": {},
   "outputs": [],
   "source": [
    "rental = rental.drop_duplicates()"
   ]
  },
  {
   "cell_type": "code",
   "execution_count": 21,
   "id": "da3b0790-b61f-4f35-ad5a-dbc59dc94b05",
   "metadata": {},
   "outputs": [
    {
     "data": {
      "text/plain": [
       "(991, 4)"
      ]
     },
     "execution_count": 21,
     "metadata": {},
     "output_type": "execute_result"
    }
   ],
   "source": [
    "rental.shape"
   ]
  },
  {
   "cell_type": "code",
   "execution_count": 23,
   "id": "b7956156-d1ab-4659-a5fa-68b2696f9c80",
   "metadata": {},
   "outputs": [],
   "source": [
    "rental.to_csv(\"clean_rental.csv\", index=False)"
   ]
  },
  {
   "cell_type": "code",
   "execution_count": null,
   "id": "4c5940d3-822d-4d24-b275-bd4f4527456e",
   "metadata": {},
   "outputs": [],
   "source": []
  }
 ],
 "metadata": {
  "kernelspec": {
   "display_name": "Python 3 (ipykernel)",
   "language": "python",
   "name": "python3"
  },
  "language_info": {
   "codemirror_mode": {
    "name": "ipython",
    "version": 3
   },
   "file_extension": ".py",
   "mimetype": "text/x-python",
   "name": "python",
   "nbconvert_exporter": "python",
   "pygments_lexer": "ipython3",
   "version": "3.12.7"
  }
 },
 "nbformat": 4,
 "nbformat_minor": 5
}
